{
  "cells": [
    {
      "cell_type": "markdown",
      "metadata": {
        "id": "-W4q32O06HyQ"
      },
      "source": [
        "**1. Explain the key features of python that make it a popular choice for programming**?\n",
        "\n",
        "- Python's popularity stems from its unique blend of simplicity, flexibility, and power. Here are some key features that make it a favorite among programmers:\n",
        "\n",
        "**Easy to Learn and Use**\n",
        "- Simple Syntax: Python's syntax is clean and easy to read, making it perfect for beginners.\n",
        "- Concise Code: You can accomplish more with fewer lines of code compared to other language\n",
        "\n",
        "**Extensive Libraries and Frameworks**\n",
        "- Standard Library: Python's extensive standard library includes modules for various tasks, such as file I/O, networking, and data structures.\n",
        "- Third-Party Libraries: Popular libraries like NumPy, pandas, and scikit-learn make data science and machine learning a breeze.\n",
        "- Web Development: Frameworks like Django and Flask simplify web development.\n",
        "\n",
        "**Large and Active Community**\n",
        "- Open-Source: Python is open-source, which means it's free to use and distribute.\n",
        "- Community Support: A vast and active community provides numerous resources, including tutorials, documentation, and forums.\n",
        "\n",
        "**Fast Development and Prototyping**\n",
        "- Dynamic Typing: Python's dynamic typing allows for rapid development and prototyping.\n",
        "- Built-in Data Structures: Python's built-in data structures, such as lists and dictionaries, make it easy to work with data.\n",
        "\n",
        "**Real-World Applications**\n",
        "- Data Science and Machine Learning: Python is a popular choice for data science and machine learning tasks.\n",
        "- Web Development: Python is used in web development for building web applications and web services.\n",
        "- Automation: Python is used for automating tasks, such as data scraping and file management.\n",
        "\n",
        "\n",
        "\n",
        "Overall, Python's unique combination of simplicity, flexibility, and power makes it an ideal choice for a wide range of programming tasks."
      ]
    },
    {
      "cell_type": "markdown",
      "metadata": {
        "id": "C6qeLZXy7viC"
      },
      "source": [
        "**2**. **Describe the role of predefined keywords in python and provide example of how they are used in a program?**                           \n",
        "\n",
        "- In Python, predefined keywords are reserved words that have special meanings and are used to define the structure and syntax of the language. These keywords cannot be used as variable names, function names, or any other identifiers. They are essential for writing Python code and are used to perform various tasks, such as control flow, data manipulation, and function definition.\n",
        "\n",
        "**Role of Predefined Keywords**                                             \n",
        "Keywords like  True , False , if , else, for, while, ect."
      ]
    },
    {
      "cell_type": "code",
      "execution_count": null,
      "metadata": {
        "colab": {
          "base_uri": "https://localhost:8080/"
        },
        "id": "N2Qtpq9OGClU",
        "outputId": "363b44c2-eb7d-4fb3-e697-a82aaeecae9f"
      },
      "outputs": [
        {
          "data": {
            "text/plain": [
              "True"
            ]
          },
          "execution_count": 1,
          "metadata": {},
          "output_type": "execute_result"
        }
      ],
      "source": [
        "#1 . true\n",
        "\n",
        "56 > 5"
      ]
    },
    {
      "cell_type": "code",
      "execution_count": null,
      "metadata": {
        "colab": {
          "base_uri": "https://localhost:8080/"
        },
        "id": "b4YINJhqBji2",
        "outputId": "51e57eb8-0469-4b29-9160-44ccd8cf6e64"
      },
      "outputs": [
        {
          "data": {
            "text/plain": [
              "True"
            ]
          },
          "execution_count": 2,
          "metadata": {},
          "output_type": "execute_result"
        }
      ],
      "source": [
        "6 < 7"
      ]
    },
    {
      "cell_type": "code",
      "execution_count": null,
      "metadata": {
        "colab": {
          "base_uri": "https://localhost:8080/"
        },
        "id": "onC1oQdfBtle",
        "outputId": "1c4f2200-3cec-410a-8ca7-796df765d306"
      },
      "outputs": [
        {
          "data": {
            "text/plain": [
              "True"
            ]
          },
          "execution_count": 4,
          "metadata": {},
          "output_type": "execute_result"
        }
      ],
      "source": [
        "8 == 8"
      ]
    },
    {
      "cell_type": "code",
      "execution_count": null,
      "metadata": {
        "colab": {
          "base_uri": "https://localhost:8080/"
        },
        "id": "HtYrr9qiB30W",
        "outputId": "937df87f-12bd-4145-f4be-34e67f7e604d"
      },
      "outputs": [
        {
          "data": {
            "text/plain": [
              "True"
            ]
          },
          "execution_count": 5,
          "metadata": {},
          "output_type": "execute_result"
        }
      ],
      "source": [
        "6 <= 7"
      ]
    },
    {
      "cell_type": "code",
      "execution_count": null,
      "metadata": {
        "colab": {
          "base_uri": "https://localhost:8080/"
        },
        "id": "i6bMRBkZCCOA",
        "outputId": "68ce7135-6785-4d01-b92b-065554e92098"
      },
      "outputs": [
        {
          "data": {
            "text/plain": [
              "False"
            ]
          },
          "execution_count": 6,
          "metadata": {},
          "output_type": "execute_result"
        }
      ],
      "source": [
        "#2. False\n",
        "6 < 5"
      ]
    },
    {
      "cell_type": "code",
      "execution_count": null,
      "metadata": {
        "colab": {
          "base_uri": "https://localhost:8080/"
        },
        "id": "aPgsSALQCNkz",
        "outputId": "6fb2350a-84ba-4322-aece-000afcd637ea"
      },
      "outputs": [
        {
          "data": {
            "text/plain": [
              "False"
            ]
          },
          "execution_count": 8,
          "metadata": {},
          "output_type": "execute_result"
        }
      ],
      "source": [
        "15 == 18"
      ]
    },
    {
      "cell_type": "code",
      "execution_count": null,
      "metadata": {
        "colab": {
          "base_uri": "https://localhost:8080/"
        },
        "id": "wq1BHjMWCeTW",
        "outputId": "84a78912-06e6-475d-9095-591ffb033ca7"
      },
      "outputs": [
        {
          "data": {
            "text/plain": [
              "False"
            ]
          },
          "execution_count": 9,
          "metadata": {},
          "output_type": "execute_result"
        }
      ],
      "source": [
        "16 > 22"
      ]
    },
    {
      "cell_type": "code",
      "execution_count": null,
      "metadata": {
        "colab": {
          "base_uri": "https://localhost:8080/"
        },
        "id": "n6TYzF9kClkd",
        "outputId": "c709df48-791e-414e-89a6-3ec2dbdb5945"
      },
      "outputs": [
        {
          "data": {
            "text/plain": [
              "False"
            ]
          },
          "execution_count": 12,
          "metadata": {},
          "output_type": "execute_result"
        }
      ],
      "source": [
        "19 <= 15"
      ]
    },
    {
      "cell_type": "code",
      "execution_count": null,
      "metadata": {
        "colab": {
          "base_uri": "https://localhost:8080/"
        },
        "id": "QhsuKX6TCx05",
        "outputId": "d47039d8-74e4-447a-96a0-40562012cbf4"
      },
      "outputs": [
        {
          "name": "stdout",
          "output_type": "stream",
          "text": [
            "It is a sunny day\n"
          ]
        }
      ],
      "source": [
        "#3 . if\n",
        "\n",
        "weather = 'sunny'\n",
        "if weather == 'sunny':\n",
        "    print('It is a sunny day')"
      ]
    },
    {
      "cell_type": "code",
      "execution_count": null,
      "metadata": {
        "id": "e69bgMkXE-qb"
      },
      "outputs": [],
      "source": [
        "weather = 'rainy'\n",
        "if weather == 'sunny':\n",
        "    print('i will not play football')"
      ]
    },
    {
      "cell_type": "code",
      "execution_count": null,
      "metadata": {
        "colab": {
          "base_uri": "https://localhost:8080/"
        },
        "id": "Z7g91V3dFPQZ",
        "outputId": "fa44b42c-3be8-4340-b1e9-55c92a7fcc5b"
      },
      "outputs": [
        {
          "name": "stdout",
          "output_type": "stream",
          "text": [
            "it is hot\n"
          ]
        }
      ],
      "source": [
        "temp = 45\n",
        "if temp > 30:\n",
        "    print('it is hot')"
      ]
    },
    {
      "cell_type": "code",
      "execution_count": null,
      "metadata": {
        "id": "Ry2WFbKXGMp0"
      },
      "outputs": [],
      "source": [
        "number = 25\n",
        "if number % 2 == 0:\n",
        "    print(\"number is even\")"
      ]
    },
    {
      "cell_type": "code",
      "execution_count": null,
      "metadata": {
        "colab": {
          "base_uri": "https://localhost:8080/"
        },
        "id": "QVRGXKBMG46-",
        "outputId": "47fdedaa-5fa9-4001-9817-beeef3c8b6c2"
      },
      "outputs": [
        {
          "name": "stdout",
          "output_type": "stream",
          "text": [
            "it is a rainy day\n"
          ]
        }
      ],
      "source": [
        "4. #else\n",
        "\n",
        "weather = 'rainy'\n",
        "if weather == 'sunny':\n",
        "    print('it is a sunny day')\n",
        "else:\n",
        "    print('it is a rainy day')\n"
      ]
    },
    {
      "cell_type": "code",
      "execution_count": null,
      "metadata": {
        "colab": {
          "base_uri": "https://localhost:8080/"
        },
        "id": "nWGOb4ZPHfv3",
        "outputId": "f28fcefa-5f5c-48eb-f30b-249a12552708"
      },
      "outputs": [
        {
          "name": "stdout",
          "output_type": "stream",
          "text": [
            "i will play football\n"
          ]
        }
      ],
      "source": [
        "weather =  'sunny'\n",
        "if weather == 'sunny':\n",
        "    print('i will play football')\n",
        "else:\n",
        "    print('i will not play football')"
      ]
    },
    {
      "cell_type": "code",
      "execution_count": null,
      "metadata": {
        "colab": {
          "base_uri": "https://localhost:8080/"
        },
        "id": "QqVLayR8HuFu",
        "outputId": "9008666c-3c84-4eae-f58e-7d6b3ca64f60"
      },
      "outputs": [
        {
          "name": "stdout",
          "output_type": "stream",
          "text": [
            "you are not eligible to vote\n"
          ]
        }
      ],
      "source": [
        "age = 17\n",
        "if age >= 18:\n",
        "    print('you are eligible to vote')\n",
        "else:\n",
        "    print('you are not eligible to vote')"
      ]
    },
    {
      "cell_type": "code",
      "execution_count": null,
      "metadata": {
        "colab": {
          "base_uri": "https://localhost:8080/"
        },
        "id": "w5tpB2sVIFa-",
        "outputId": "24e8b16a-2629-4d04-91d9-b90404d7be48"
      },
      "outputs": [
        {
          "name": "stdout",
          "output_type": "stream",
          "text": [
            "x is greater than 5\n"
          ]
        }
      ],
      "source": [
        "x = 8\n",
        "if x > 5:\n",
        "    print('x is greater than 5')\n",
        "else:\n",
        "    print('x is not greater than 5')"
      ]
    },
    {
      "cell_type": "code",
      "execution_count": null,
      "metadata": {
        "colab": {
          "base_uri": "https://localhost:8080/"
        },
        "id": "HT9QDBqBI77t",
        "outputId": "bc70d9f0-d742-46de-f13a-c8843eca9097"
      },
      "outputs": [
        {
          "name": "stdout",
          "output_type": "stream",
          "text": [
            "1\n",
            "2\n",
            "3\n",
            "4\n",
            "5\n"
          ]
        }
      ],
      "source": [
        "#5. for\n",
        "\n",
        "numbers = [1,2,3,4,5]\n",
        "for num in numbers:\n",
        "    print(num)\n"
      ]
    },
    {
      "cell_type": "code",
      "execution_count": null,
      "metadata": {
        "colab": {
          "base_uri": "https://localhost:8080/"
        },
        "id": "HFe79bUKMcUa",
        "outputId": "fab57887-ef1a-45ed-eb13-0661b5e5780b"
      },
      "outputs": [
        {
          "name": "stdout",
          "output_type": "stream",
          "text": [
            "1\n",
            "2\n",
            "3\n",
            "4\n",
            "5\n"
          ]
        }
      ],
      "source": [
        "for i in range(1,6):\n",
        "    print(i)"
      ]
    },
    {
      "cell_type": "code",
      "execution_count": null,
      "metadata": {
        "colab": {
          "base_uri": "https://localhost:8080/"
        },
        "id": "BAtF3YBGMrT1",
        "outputId": "12e1a8b4-2d72-4181-8d5c-6b385a503ad2"
      },
      "outputs": [
        {
          "name": "stdout",
          "output_type": "stream",
          "text": [
            "1\n",
            "2\n",
            "3\n",
            "4\n"
          ]
        }
      ],
      "source": [
        "number = [1,2,3,4,5,6,7]\n",
        "for num in range(1,5):\n",
        "    print(num)\n"
      ]
    },
    {
      "cell_type": "code",
      "execution_count": null,
      "metadata": {
        "id": "Xa75vs5fOyap"
      },
      "outputs": [],
      "source": [
        "for i in \"pwskills\":\n",
        "  pr"
      ]
    },
    {
      "cell_type": "code",
      "execution_count": null,
      "metadata": {
        "colab": {
          "background_save": true
        },
        "id": "iSYyj7VFOOvB",
        "outputId": "fb5d027a-4b1f-4ad7-ca7e-09c495db970c"
      },
      "outputs": [
        {
          "name": "stdout",
          "output_type": "stream",
          "text": [
            "hello\n"
          ]
        }
      ],
      "source": [
        "# 6.\n",
        "while True:\n",
        "    print('hello')\n",
        "    break"
      ]
    },
    {
      "cell_type": "markdown",
      "metadata": {
        "id": "YOIhEma17eqX"
      },
      "source": [
        " **3.Compare and contrast mutable and immutable objects in Python with example?**\n",
        "\n",
        "  In Python, objects can be either mutable or immutable. The key difference between the two lies in their ability to be modified after creation.\n",
        "\n",
        "Mutable Objects\n",
        "Mutable objects can be changed after they're created. Examples of mutable objects include:\n",
        "\n",
        "- Lists\n",
        "- Dictionaries\n",
        "- Sets\n",
        "\n",
        "Examples of Mutable Objects\n",
        "\n",
        "# Lists\n",
        "\n",
        "\n",
        "\n"
      ]
    },
    {
      "cell_type": "code",
      "source": [
        "type([])"
      ],
      "metadata": {
        "colab": {
          "base_uri": "https://localhost:8080/"
        },
        "id": "rfIUpcMyjG42",
        "outputId": "69805d18-7fb4-4b0f-e8bf-6b5d1ff9a389"
      },
      "execution_count": null,
      "outputs": [
        {
          "output_type": "execute_result",
          "data": {
            "text/plain": [
              "list"
            ]
          },
          "metadata": {},
          "execution_count": 1
        }
      ]
    },
    {
      "cell_type": "code",
      "source": [
        "grocery_list = (\"apple\",\"watermelon\",1,25, True)"
      ],
      "metadata": {
        "id": "UvYWN1XFj5Gb"
      },
      "execution_count": null,
      "outputs": []
    },
    {
      "cell_type": "code",
      "source": [
        "grocery_list[0]"
      ],
      "metadata": {
        "colab": {
          "base_uri": "https://localhost:8080/",
          "height": 35
        },
        "id": "ZQhpd9oqkS8k",
        "outputId": "42f76523-c98a-4b20-a7bd-cb63528249a7"
      },
      "execution_count": null,
      "outputs": [
        {
          "output_type": "execute_result",
          "data": {
            "text/plain": [
              "'apple'"
            ],
            "application/vnd.google.colaboratory.intrinsic+json": {
              "type": "string"
            }
          },
          "metadata": {},
          "execution_count": 22
        }
      ]
    },
    {
      "cell_type": "code",
      "source": [
        "grocery_list[-1]"
      ],
      "metadata": {
        "colab": {
          "base_uri": "https://localhost:8080/"
        },
        "id": "v5cbXW_jk5hp",
        "outputId": "7eb7a11b-d1a1-45ff-bdfb-f2a3e93d168e"
      },
      "execution_count": null,
      "outputs": [
        {
          "output_type": "execute_result",
          "data": {
            "text/plain": [
              "True"
            ]
          },
          "metadata": {},
          "execution_count": 23
        }
      ]
    },
    {
      "cell_type": "code",
      "source": [
        "grocery_list[1:3]"
      ],
      "metadata": {
        "colab": {
          "base_uri": "https://localhost:8080/"
        },
        "id": "KwUF_sutmrhk",
        "outputId": "608daca4-5a64-4d11-bc8c-387b8eb75675"
      },
      "execution_count": null,
      "outputs": [
        {
          "output_type": "execute_result",
          "data": {
            "text/plain": [
              "('watermelon', 1)"
            ]
          },
          "metadata": {},
          "execution_count": 25
        }
      ]
    },
    {
      "cell_type": "markdown",
      "source": [
        "# **Dictionaries**"
      ],
      "metadata": {
        "id": "QRKHUQYynLqI"
      }
    },
    {
      "cell_type": "code",
      "source": [
        "d = {'name':'deep','email':'deep@gmail.com','contact no':54678945}"
      ],
      "metadata": {
        "id": "evB-a4wxn1dn"
      },
      "execution_count": null,
      "outputs": []
    },
    {
      "cell_type": "code",
      "source": [
        "d['name']"
      ],
      "metadata": {
        "colab": {
          "base_uri": "https://localhost:8080/",
          "height": 35
        },
        "id": "uD8YdBMyp7ej",
        "outputId": "60966ecd-8463-4c6c-a37b-3a2d3929c56c"
      },
      "execution_count": null,
      "outputs": [
        {
          "output_type": "execute_result",
          "data": {
            "text/plain": [
              "'deep'"
            ],
            "application/vnd.google.colaboratory.intrinsic+json": {
              "type": "string"
            }
          },
          "metadata": {},
          "execution_count": 5
        }
      ]
    },
    {
      "cell_type": "code",
      "source": [
        "d['email']"
      ],
      "metadata": {
        "colab": {
          "base_uri": "https://localhost:8080/",
          "height": 35
        },
        "id": "dAYlL5NBqDLq",
        "outputId": "32dbbd89-d49a-4590-a22d-f3de98b5abae"
      },
      "execution_count": null,
      "outputs": [
        {
          "output_type": "execute_result",
          "data": {
            "text/plain": [
              "'deep@gmail.com'"
            ],
            "application/vnd.google.colaboratory.intrinsic+json": {
              "type": "string"
            }
          },
          "metadata": {},
          "execution_count": 6
        }
      ]
    },
    {
      "cell_type": "code",
      "source": [
        "d"
      ],
      "metadata": {
        "colab": {
          "base_uri": "https://localhost:8080/"
        },
        "id": "TuZzq3geqGPW",
        "outputId": "8cd62a68-e17f-4dfe-ed8d-2267e31d943a"
      },
      "execution_count": null,
      "outputs": [
        {
          "output_type": "execute_result",
          "data": {
            "text/plain": [
              "{'name': 'deep', 'email': 'deep@gmail.com', 'contact no': 54678945}"
            ]
          },
          "metadata": {},
          "execution_count": 7
        }
      ]
    },
    {
      "cell_type": "code",
      "source": [
        "d.clear()"
      ],
      "metadata": {
        "id": "gzq-eqfwsAM7"
      },
      "execution_count": null,
      "outputs": []
    },
    {
      "cell_type": "code",
      "source": [
        "d"
      ],
      "metadata": {
        "colab": {
          "base_uri": "https://localhost:8080/"
        },
        "id": "ljggJBY-sHxF",
        "outputId": "5b8d345f-bf71-42f2-bd52-29c49d3637bd"
      },
      "execution_count": null,
      "outputs": [
        {
          "output_type": "execute_result",
          "data": {
            "text/plain": [
              "{}"
            ]
          },
          "metadata": {},
          "execution_count": 9
        }
      ]
    },
    {
      "cell_type": "markdown",
      "source": [
        "# **sets**"
      ],
      "metadata": {
        "id": "2aNxZvKBi-Lo"
      }
    },
    {
      "cell_type": "code",
      "source": [
        "my_sets = {1,2,3,4,5,6}"
      ],
      "metadata": {
        "id": "iN1VIWNrjGfX"
      },
      "execution_count": null,
      "outputs": []
    },
    {
      "cell_type": "code",
      "source": [
        "my_sets.add(4)"
      ],
      "metadata": {
        "id": "98qAm1umj7j_"
      },
      "execution_count": null,
      "outputs": []
    },
    {
      "cell_type": "code",
      "source": [
        "print (my_sets)"
      ],
      "metadata": {
        "colab": {
          "base_uri": "https://localhost:8080/"
        },
        "id": "qcPqSIP2kCId",
        "outputId": "31aa9d3c-b40b-434e-8eef-df8b162727c7"
      },
      "execution_count": null,
      "outputs": [
        {
          "output_type": "stream",
          "name": "stdout",
          "text": [
            "{1, 2, 3, 4, 5, 6}\n"
          ]
        }
      ]
    },
    {
      "cell_type": "code",
      "source": [
        "my_sets={1.1,5,6,8,7}"
      ],
      "metadata": {
        "id": "wRPNvGfokHBY"
      },
      "execution_count": null,
      "outputs": []
    },
    {
      "cell_type": "code",
      "source": [
        "my_sets.remove(6)"
      ],
      "metadata": {
        "id": "Zpu_63BfkW_3"
      },
      "execution_count": null,
      "outputs": []
    },
    {
      "cell_type": "code",
      "source": [
        "print(my_sets)"
      ],
      "metadata": {
        "colab": {
          "base_uri": "https://localhost:8080/"
        },
        "id": "RE6Z_XpzkhTY",
        "outputId": "8611aa18-161c-4233-d707-585a10e359c7"
      },
      "execution_count": null,
      "outputs": [
        {
          "output_type": "stream",
          "name": "stdout",
          "text": [
            "{1.1, 5, 7, 8}\n"
          ]
        }
      ]
    },
    {
      "cell_type": "code",
      "source": [
        "set1 = {1,2,3}\n",
        "set2 = {3,4,5}"
      ],
      "metadata": {
        "id": "WI9pwKvhsheG"
      },
      "execution_count": null,
      "outputs": []
    },
    {
      "cell_type": "code",
      "source": [
        "set1.union(set2)"
      ],
      "metadata": {
        "colab": {
          "base_uri": "https://localhost:8080/"
        },
        "id": "lGC3HKGxtZ2J",
        "outputId": "e04ba511-067a-4d0d-a87c-5c155b084073"
      },
      "execution_count": null,
      "outputs": [
        {
          "output_type": "execute_result",
          "data": {
            "text/plain": [
              "{1, 2, 3, 4, 5}"
            ]
          },
          "metadata": {},
          "execution_count": 28
        }
      ]
    },
    {
      "cell_type": "code",
      "source": [
        "s = {1,2,2,2,3,4,5}\n",
        "s"
      ],
      "metadata": {
        "colab": {
          "base_uri": "https://localhost:8080/"
        },
        "id": "tykfRb6NtvAU",
        "outputId": "d9cf894a-fa01-4d84-8ce7-b656d2bbbfc0"
      },
      "execution_count": null,
      "outputs": [
        {
          "output_type": "execute_result",
          "data": {
            "text/plain": [
              "{1, 2, 3, 4, 5}"
            ]
          },
          "metadata": {},
          "execution_count": 30
        }
      ]
    },
    {
      "cell_type": "markdown",
      "source": [
        "**Immutable Objects**\n",
        "\n",
        "Immutable objects cannot be changed after they're created. Examples of immutable objects include:\n",
        "\n",
        "- Integers\n",
        "- Floats\n",
        "- Strings\n",
        "- Tuples\n",
        "\n",
        "**Examples of Immutable Objects**\n",
        "# Integers\n"
      ],
      "metadata": {
        "id": "QuZT0-b2lRyc"
      }
    },
    {
      "cell_type": "code",
      "source": [
        "my_int = 16"
      ],
      "metadata": {
        "id": "jSWS1TxsoOXB"
      },
      "execution_count": null,
      "outputs": []
    },
    {
      "cell_type": "code",
      "source": [
        "my_int"
      ],
      "metadata": {
        "colab": {
          "base_uri": "https://localhost:8080/"
        },
        "id": "wfwKlkNbo7cN",
        "outputId": "3b258e91-ce83-4c9d-febe-9e00b8d9c660"
      },
      "execution_count": null,
      "outputs": [
        {
          "output_type": "execute_result",
          "data": {
            "text/plain": [
              "16"
            ]
          },
          "metadata": {},
          "execution_count": 21
        }
      ]
    },
    {
      "cell_type": "code",
      "source": [
        "my_int = 18"
      ],
      "metadata": {
        "id": "a04aHJwmo98N"
      },
      "execution_count": null,
      "outputs": []
    },
    {
      "cell_type": "code",
      "source": [
        "my_int + 8"
      ],
      "metadata": {
        "colab": {
          "base_uri": "https://localhost:8080/"
        },
        "id": "ooyIOvdfpDV8",
        "outputId": "ef96294f-36d4-4349-fb80-60fe5cbc019a"
      },
      "execution_count": null,
      "outputs": [
        {
          "output_type": "execute_result",
          "data": {
            "text/plain": [
              "26"
            ]
          },
          "metadata": {},
          "execution_count": 24
        }
      ]
    },
    {
      "cell_type": "code",
      "source": [
        "my_int"
      ],
      "metadata": {
        "colab": {
          "base_uri": "https://localhost:8080/"
        },
        "id": "mxCkAMEZt9_W",
        "outputId": "8d5719ca-3e2f-429f-f242-34c9df38d529"
      },
      "execution_count": null,
      "outputs": [
        {
          "output_type": "execute_result",
          "data": {
            "text/plain": [
              "18"
            ]
          },
          "metadata": {},
          "execution_count": 32
        }
      ]
    },
    {
      "cell_type": "code",
      "source": [
        "my_int * 5"
      ],
      "metadata": {
        "colab": {
          "base_uri": "https://localhost:8080/"
        },
        "id": "D10fs6q1uf5a",
        "outputId": "a84886d8-c4e4-4a06-8b0f-d66d512d422c"
      },
      "execution_count": null,
      "outputs": [
        {
          "output_type": "execute_result",
          "data": {
            "text/plain": [
              "90"
            ]
          },
          "metadata": {},
          "execution_count": 33
        }
      ]
    },
    {
      "cell_type": "markdown",
      "source": [
        "# Floats"
      ],
      "metadata": {
        "id": "C4kU157jvJsn"
      }
    },
    {
      "cell_type": "code",
      "source": [
        "float_num = 3.14"
      ],
      "metadata": {
        "id": "XSkrh6u6vTJ6"
      },
      "execution_count": null,
      "outputs": []
    },
    {
      "cell_type": "code",
      "source": [
        "float_num"
      ],
      "metadata": {
        "colab": {
          "base_uri": "https://localhost:8080/"
        },
        "id": "YMeYbB9CvnOv",
        "outputId": "07837f2f-4613-452d-8e79-437444d4f2f6"
      },
      "execution_count": null,
      "outputs": [
        {
          "output_type": "execute_result",
          "data": {
            "text/plain": [
              "3.14"
            ]
          },
          "metadata": {},
          "execution_count": 35
        }
      ]
    },
    {
      "cell_type": "code",
      "source": [
        "float_num += 2.5"
      ],
      "metadata": {
        "id": "ltF7uNEIvr2L"
      },
      "execution_count": null,
      "outputs": []
    },
    {
      "cell_type": "code",
      "source": [
        "float_num"
      ],
      "metadata": {
        "colab": {
          "base_uri": "https://localhost:8080/"
        },
        "id": "avTtOVjVvwN6",
        "outputId": "85b42995-ba72-4def-dc13-424941d826b8"
      },
      "execution_count": null,
      "outputs": [
        {
          "output_type": "execute_result",
          "data": {
            "text/plain": [
              "5.640000000000001"
            ]
          },
          "metadata": {},
          "execution_count": 37
        }
      ]
    },
    {
      "cell_type": "code",
      "source": [
        "float_num *= 0.5"
      ],
      "metadata": {
        "id": "jmKU40pjvzla"
      },
      "execution_count": null,
      "outputs": []
    },
    {
      "cell_type": "code",
      "source": [
        "float_num"
      ],
      "metadata": {
        "colab": {
          "base_uri": "https://localhost:8080/"
        },
        "id": "PWNbOxMtv4A2",
        "outputId": "b7449fdc-4acc-48b9-cb85-2e2399f76729"
      },
      "execution_count": null,
      "outputs": [
        {
          "output_type": "execute_result",
          "data": {
            "text/plain": [
              "2.8200000000000003"
            ]
          },
          "metadata": {},
          "execution_count": 39
        }
      ]
    },
    {
      "cell_type": "code",
      "source": [
        "float_num **= 2"
      ],
      "metadata": {
        "id": "5cfeDKCsv6f4"
      },
      "execution_count": null,
      "outputs": []
    },
    {
      "cell_type": "code",
      "source": [
        "float_num"
      ],
      "metadata": {
        "colab": {
          "base_uri": "https://localhost:8080/"
        },
        "id": "zg2EnVxVv-w1",
        "outputId": "fc0e08dc-65d6-48c9-e8af-75a37f5a61c0"
      },
      "execution_count": null,
      "outputs": [
        {
          "output_type": "execute_result",
          "data": {
            "text/plain": [
              "7.952400000000002"
            ]
          },
          "metadata": {},
          "execution_count": 41
        }
      ]
    },
    {
      "cell_type": "markdown",
      "source": [
        "# strings"
      ],
      "metadata": {
        "id": "lOYPiW6TwLqz"
      }
    },
    {
      "cell_type": "code",
      "source": [
        "string = \"hello\""
      ],
      "metadata": {
        "id": "0apr8amiwBL-"
      },
      "execution_count": null,
      "outputs": []
    },
    {
      "cell_type": "code",
      "source": [
        "string"
      ],
      "metadata": {
        "colab": {
          "base_uri": "https://localhost:8080/",
          "height": 35
        },
        "id": "ipMrcqg_weSD",
        "outputId": "a4af5f61-8361-493c-b282-d10d4e5dca67"
      },
      "execution_count": null,
      "outputs": [
        {
          "output_type": "execute_result",
          "data": {
            "text/plain": [
              "'hello'"
            ],
            "application/vnd.google.colaboratory.intrinsic+json": {
              "type": "string"
            }
          },
          "metadata": {},
          "execution_count": 43
        }
      ]
    },
    {
      "cell_type": "code",
      "source": [
        "string+(\"deep\")"
      ],
      "metadata": {
        "colab": {
          "base_uri": "https://localhost:8080/",
          "height": 35
        },
        "id": "xXP7Kj7swjLy",
        "outputId": "730cff82-4ea9-48d7-ffd8-2951dd5c2d64"
      },
      "execution_count": null,
      "outputs": [
        {
          "output_type": "execute_result",
          "data": {
            "text/plain": [
              "'hellodeep'"
            ],
            "application/vnd.google.colaboratory.intrinsic+json": {
              "type": "string"
            }
          },
          "metadata": {},
          "execution_count": 45
        }
      ]
    },
    {
      "cell_type": "code",
      "source": [
        "string * 3"
      ],
      "metadata": {
        "colab": {
          "base_uri": "https://localhost:8080/",
          "height": 35
        },
        "id": "gTsg2FN3wpg-",
        "outputId": "a5691e6d-3a6d-464c-e266-ed9f2e22e33c"
      },
      "execution_count": null,
      "outputs": [
        {
          "output_type": "execute_result",
          "data": {
            "text/plain": [
              "'hellohellohello'"
            ],
            "application/vnd.google.colaboratory.intrinsic+json": {
              "type": "string"
            }
          },
          "metadata": {},
          "execution_count": 46
        }
      ]
    },
    {
      "cell_type": "code",
      "source": [
        "string += \"world\""
      ],
      "metadata": {
        "id": "e4i5WtNcw_W_"
      },
      "execution_count": null,
      "outputs": []
    },
    {
      "cell_type": "code",
      "source": [
        "string"
      ],
      "metadata": {
        "colab": {
          "base_uri": "https://localhost:8080/",
          "height": 35
        },
        "id": "ohdNE3xlxLcf",
        "outputId": "eb13bde7-5dbe-4e3a-a1b6-1b66c6d3339e"
      },
      "execution_count": null,
      "outputs": [
        {
          "output_type": "execute_result",
          "data": {
            "text/plain": [
              "'helloworld'"
            ],
            "application/vnd.google.colaboratory.intrinsic+json": {
              "type": "string"
            }
          },
          "metadata": {},
          "execution_count": 49
        }
      ]
    },
    {
      "cell_type": "markdown",
      "source": [
        "# Tuples"
      ],
      "metadata": {
        "id": "GFWZxYWyxpW_"
      }
    },
    {
      "cell_type": "code",
      "source": [
        "tuple_example = (1,2,3,4,5)"
      ],
      "metadata": {
        "id": "sGtZwyADxcQr"
      },
      "execution_count": null,
      "outputs": []
    },
    {
      "cell_type": "code",
      "source": [
        "t = (\"hello\",\"Rahul\",\"amit\",2,5,6,7,True,5+8j,\"Rahul\")"
      ],
      "metadata": {
        "id": "pIPrCDFmyEvE"
      },
      "execution_count": null,
      "outputs": []
    },
    {
      "cell_type": "code",
      "source": [
        "type(t)"
      ],
      "metadata": {
        "id": "wFJNDugRyHqi",
        "colab": {
          "base_uri": "https://localhost:8080/"
        },
        "outputId": "85b31d0a-ac8c-4140-e803-3e78b8aa7ca7"
      },
      "execution_count": null,
      "outputs": [
        {
          "output_type": "execute_result",
          "data": {
            "text/plain": [
              "tuple"
            ]
          },
          "metadata": {},
          "execution_count": 2
        }
      ]
    },
    {
      "cell_type": "code",
      "source": [
        "t[2]"
      ],
      "metadata": {
        "colab": {
          "base_uri": "https://localhost:8080/",
          "height": 35
        },
        "id": "BSqYUVeLCML8",
        "outputId": "8431cb90-f758-40af-eb03-9d0917110b91"
      },
      "execution_count": null,
      "outputs": [
        {
          "output_type": "execute_result",
          "data": {
            "text/plain": [
              "'amit'"
            ],
            "application/vnd.google.colaboratory.intrinsic+json": {
              "type": "string"
            }
          },
          "metadata": {},
          "execution_count": 4
        }
      ]
    },
    {
      "cell_type": "code",
      "source": [
        "t[-3]"
      ],
      "metadata": {
        "colab": {
          "base_uri": "https://localhost:8080/"
        },
        "id": "MBP2TtCyCPZd",
        "outputId": "816d70ac-657c-42de-b126-4f3d4920bfb7"
      },
      "execution_count": null,
      "outputs": [
        {
          "output_type": "execute_result",
          "data": {
            "text/plain": [
              "7"
            ]
          },
          "metadata": {},
          "execution_count": 5
        }
      ]
    },
    {
      "cell_type": "code",
      "source": [
        "t.count(\"Rahul\")"
      ],
      "metadata": {
        "colab": {
          "base_uri": "https://localhost:8080/"
        },
        "id": "EvoIogNZCmzw",
        "outputId": "26605568-b909-40ce-cee3-4c04c79eb76a"
      },
      "execution_count": null,
      "outputs": [
        {
          "output_type": "execute_result",
          "data": {
            "text/plain": [
              "2"
            ]
          },
          "metadata": {},
          "execution_count": 5
        }
      ]
    },
    {
      "cell_type": "code",
      "source": [
        "t.index(\"Rahul\")"
      ],
      "metadata": {
        "id": "80J7gKVpDVhc",
        "colab": {
          "base_uri": "https://localhost:8080/"
        },
        "outputId": "0e6a694e-74c7-462c-b0af-13106f396685"
      },
      "execution_count": null,
      "outputs": [
        {
          "output_type": "execute_result",
          "data": {
            "text/plain": [
              "1"
            ]
          },
          "metadata": {},
          "execution_count": 7
        }
      ]
    },
    {
      "cell_type": "code",
      "source": [
        "for i in t:\n",
        "  print(i,type(i))"
      ],
      "metadata": {
        "colab": {
          "base_uri": "https://localhost:8080/"
        },
        "id": "torJdM94fW43",
        "outputId": "4f962cbd-1010-4d3d-9199-c0ba36c441b6"
      },
      "execution_count": null,
      "outputs": [
        {
          "output_type": "stream",
          "name": "stdout",
          "text": [
            "hello <class 'str'>\n",
            "Rahul <class 'str'>\n",
            "amit <class 'str'>\n",
            "2 <class 'int'>\n",
            "5 <class 'int'>\n",
            "6 <class 'int'>\n",
            "7 <class 'int'>\n",
            "True <class 'bool'>\n",
            "(5+8j) <class 'complex'>\n",
            "Rahul <class 'str'>\n"
          ]
        }
      ]
    },
    {
      "cell_type": "code",
      "source": [
        "t1 = (100,250,300,25,30)\n",
        "max(t1)"
      ],
      "metadata": {
        "colab": {
          "base_uri": "https://localhost:8080/"
        },
        "id": "hPmdx2XSgHeO",
        "outputId": "26bad5ca-428f-4621-e91d-e279af3e9053"
      },
      "execution_count": null,
      "outputs": [
        {
          "output_type": "execute_result",
          "data": {
            "text/plain": [
              "300"
            ]
          },
          "metadata": {},
          "execution_count": 9
        }
      ]
    },
    {
      "cell_type": "code",
      "source": [
        "min(t1)"
      ],
      "metadata": {
        "colab": {
          "base_uri": "https://localhost:8080/"
        },
        "id": "jHR6ZU72hO4q",
        "outputId": "19f829bf-84ce-407d-9064-d94fc67a112f"
      },
      "execution_count": null,
      "outputs": [
        {
          "output_type": "execute_result",
          "data": {
            "text/plain": [
              "25"
            ]
          },
          "metadata": {},
          "execution_count": 10
        }
      ]
    },
    {
      "cell_type": "code",
      "source": [
        "t2 = (15,55,75)"
      ],
      "metadata": {
        "id": "JrhLl6NThWex"
      },
      "execution_count": null,
      "outputs": []
    },
    {
      "cell_type": "code",
      "source": [
        "t3 = (t1,t2)"
      ],
      "metadata": {
        "id": "n9R223l1hl8r"
      },
      "execution_count": null,
      "outputs": []
    },
    {
      "cell_type": "code",
      "source": [
        "t3"
      ],
      "metadata": {
        "colab": {
          "base_uri": "https://localhost:8080/"
        },
        "id": "A_zQCXZPhsbU",
        "outputId": "b7fe3241-9511-475f-9d48-96525accce18"
      },
      "execution_count": null,
      "outputs": [
        {
          "output_type": "execute_result",
          "data": {
            "text/plain": [
              "((100, 250, 300, 25, 30), (15, 55, 75))"
            ]
          },
          "metadata": {},
          "execution_count": 13
        }
      ]
    },
    {
      "cell_type": "code",
      "source": [
        "250 in t1"
      ],
      "metadata": {
        "colab": {
          "base_uri": "https://localhost:8080/"
        },
        "id": "-x7ErT0uhuIc",
        "outputId": "75688fb3-77bc-4993-8725-f98520dfc521"
      },
      "execution_count": null,
      "outputs": [
        {
          "output_type": "execute_result",
          "data": {
            "text/plain": [
              "True"
            ]
          },
          "metadata": {},
          "execution_count": 15
        }
      ]
    },
    {
      "cell_type": "code",
      "source": [
        "55  not in t2"
      ],
      "metadata": {
        "colab": {
          "base_uri": "https://localhost:8080/"
        },
        "id": "1RTDEp-fjZlP",
        "outputId": "7f0b6cbf-69af-4e59-e36e-711c04014c87"
      },
      "execution_count": null,
      "outputs": [
        {
          "output_type": "execute_result",
          "data": {
            "text/plain": [
              "False"
            ]
          },
          "metadata": {},
          "execution_count": 18
        }
      ]
    },
    {
      "cell_type": "markdown",
      "source": [
        "# Comparison of Mutable and Immutable Objects\n",
        "**| Characteristics | Mutable Objects | Immutable Objects |**\n",
        "\n",
        "**Modifiability** -  Can be modified after creation | Cannot be modified after creation |\n",
        "\n",
        "**Memory Usage** - More memory-intensive due to potential changes | Less memory-intensive since they remain constant |\n",
        "\n",
        "**Thread Safety**- Less thread-safe due to potential concurrent modifications | More thread-safe since they cannot be changed concurrently |\n",
        "\n",
        "**Use Cases**- Suitable for data structures that need to be modified frequently, such as lists and dictionaries | Suitable for data structures that remain constant, such as string constants and tuple constants |\n",
        "\n"
      ],
      "metadata": {
        "id": "dB_ZQeV9qK-0"
      }
    },
    {
      "cell_type": "markdown",
      "source": [
        "**4 . Discuss the different types of operators in Python and provide examples of how they are used.**\n",
        "\n",
        "- Python has various types of operators that can be used to perform different operations. Here's a discussion of the different types of operators and examples of how they're used:\n",
        "\n",
        "#Arithmetic Operators\n",
        "\n",
        "Arithmetic operators are used to perform mathematical operations.\n",
        "\n",
        "| Operator | Description | Example |\n",
        "| --- | --- | --- |\n",
        "| + | Addition | a + b |\n",
        "| - | Subtraction | a - b |\n",
        "| * | Multiplication | a * b |\n",
        "| / | Division | a / b |\n",
        "| // | Floor Division | a // b |\n",
        "| % | Modulus (Remainder) | a % b |\n",
        "| ** | Exponentiation | a ** b |\n",
        "\n"
      ],
      "metadata": {
        "id": "kkEKz5Urtk9j"
      }
    },
    {
      "cell_type": "code",
      "source": [
        "a = 6\n",
        "b = 4\n"
      ],
      "metadata": {
        "id": "-vGcT3DNuMZM"
      },
      "execution_count": null,
      "outputs": []
    },
    {
      "cell_type": "code",
      "source": [
        "print(a+b)\n",
        "print(a-b)\n",
        "print(a*b)\n",
        "print(a/b)\n",
        "print(a//b)\n",
        "print(a%b)\n",
        "print(a**b)"
      ],
      "metadata": {
        "colab": {
          "base_uri": "https://localhost:8080/"
        },
        "id": "IE1WwXs4uaUg",
        "outputId": "54a7a579-41f0-4246-c8bf-b8305ffea6d1"
      },
      "execution_count": null,
      "outputs": [
        {
          "output_type": "stream",
          "name": "stdout",
          "text": [
            "10\n",
            "2\n",
            "24\n",
            "1.5\n",
            "1\n",
            "2\n",
            "1296\n"
          ]
        }
      ]
    },
    {
      "cell_type": "markdown",
      "source": [
        "# Comparison Operators\n",
        "Comparison operators are used to compare values.\n",
        "\n",
        "| Operator | Description | Example |\n",
        "| --- | --- | --- |\n",
        "| == | Equal | a == b |\n",
        "| != | Not Equal | a != b |\n",
        "| > | Greater Than | a > b |\n",
        "| < | Less Than | a < b |\n",
        "| >= | Greater Than or Equal | a >= b |\n",
        "| <= | Less Than or Equal | a <= b |"
      ],
      "metadata": {
        "id": "6sPPDKjVw_FT"
      }
    },
    {
      "cell_type": "code",
      "source": [
        "a = 10\n",
        "b = 5"
      ],
      "metadata": {
        "id": "yYBhOKt8xHGh"
      },
      "execution_count": null,
      "outputs": []
    },
    {
      "cell_type": "code",
      "source": [
        "print(a==b)\n",
        "print(a!=b)\n",
        "print(a>b)\n",
        "print(a<b)\n",
        "print(a>=b)\n",
        "print(a<=b)"
      ],
      "metadata": {
        "colab": {
          "base_uri": "https://localhost:8080/"
        },
        "id": "YoerRCeKxRCO",
        "outputId": "0d7c1c89-5b2f-470e-e13d-c467e6ebcc99"
      },
      "execution_count": null,
      "outputs": [
        {
          "output_type": "stream",
          "name": "stdout",
          "text": [
            "False\n",
            "True\n",
            "True\n",
            "False\n",
            "True\n",
            "False\n"
          ]
        }
      ]
    },
    {
      "cell_type": "markdown",
      "source": [
        "#Logical Operators\n",
        "Logical operators are used to perform logical operations.\n",
        "\n",
        "| Operator | Description | Example |\n",
        "| --- | --- | --- |\n",
        "| and | Logical And | a and b |\n",
        "| or | Logical Or | a or b |\n",
        "| not | Logical Not | not a |\n"
      ],
      "metadata": {
        "id": "LmvR6VNFxof0"
      }
    },
    {
      "cell_type": "code",
      "source": [
        " a = True\n",
        " b = False\n",
        "\n"
      ],
      "metadata": {
        "id": "CqPPvn8dx1o1"
      },
      "execution_count": null,
      "outputs": []
    },
    {
      "cell_type": "code",
      "source": [
        "print(a and b)\n",
        "print(a or b)\n",
        "print(not a)"
      ],
      "metadata": {
        "colab": {
          "base_uri": "https://localhost:8080/"
        },
        "id": "x61PyrnrZ6Sw",
        "outputId": "f14dd89b-6c1f-43e5-903f-30bcccaf24d9"
      },
      "execution_count": null,
      "outputs": [
        {
          "output_type": "stream",
          "name": "stdout",
          "text": [
            "False\n",
            "True\n",
            "False\n"
          ]
        }
      ]
    },
    {
      "cell_type": "markdown",
      "source": [
        "#Assignment Operators\n",
        "Assignment operators are used to assign values to variables.\n",
        "\n",
        "| Operator | Description | Example |\n",
        "| --- | --- | --- |\n",
        "| = | Assignment | a = b |\n",
        "| += | Addition Assignment | a += b |\n",
        "| -= | Subtraction Assignment | a -= b |\n",
        "| *= | Multiplication Assignment | a *= b |\n",
        "| /= | Division Assignment | a /= b |\n",
        "| //= | Floor Division Assignment | a //= b |\n",
        "| %= | Modulus Assignment | a %= b |\n",
        "| **= | Exponentiation Assignment | a **= b |\n"
      ],
      "metadata": {
        "id": "mUyjdSrJaZ_N"
      }
    },
    {
      "cell_type": "code",
      "source": [
        "a = 10\n",
        "b = 3\n"
      ],
      "metadata": {
        "id": "1WRvZ6sfaKHT"
      },
      "execution_count": null,
      "outputs": []
    },
    {
      "cell_type": "code",
      "source": [
        "a+= b\n",
        "print(a)"
      ],
      "metadata": {
        "colab": {
          "base_uri": "https://localhost:8080/"
        },
        "id": "UcWHoO0Fa8aZ",
        "outputId": "84a7812d-3379-443a-ad30-9f2f937f7c91"
      },
      "execution_count": null,
      "outputs": [
        {
          "output_type": "stream",
          "name": "stdout",
          "text": [
            "13\n"
          ]
        }
      ]
    },
    {
      "cell_type": "code",
      "source": [
        "a-= b\n",
        "print(a)\n"
      ],
      "metadata": {
        "colab": {
          "base_uri": "https://localhost:8080/"
        },
        "id": "lXGTrsawbExo",
        "outputId": "94f6ae66-e20b-4440-a924-7e2c4708959a"
      },
      "execution_count": null,
      "outputs": [
        {
          "output_type": "stream",
          "name": "stdout",
          "text": [
            "10\n"
          ]
        }
      ]
    },
    {
      "cell_type": "code",
      "source": [
        "a *= b\n",
        "print(a)"
      ],
      "metadata": {
        "colab": {
          "base_uri": "https://localhost:8080/"
        },
        "id": "8QCoSSZNbT3g",
        "outputId": "799b1305-8c87-4fd3-c51c-c575779f45a4"
      },
      "execution_count": null,
      "outputs": [
        {
          "output_type": "stream",
          "name": "stdout",
          "text": [
            "30\n"
          ]
        }
      ]
    },
    {
      "cell_type": "code",
      "source": [
        "a/=b\n",
        "print(a)"
      ],
      "metadata": {
        "colab": {
          "base_uri": "https://localhost:8080/"
        },
        "id": "nnmlBcz_bKnQ",
        "outputId": "e572f2cd-1798-4493-e23b-f19869e33d95"
      },
      "execution_count": null,
      "outputs": [
        {
          "output_type": "stream",
          "name": "stdout",
          "text": [
            "10.0\n"
          ]
        }
      ]
    },
    {
      "cell_type": "code",
      "source": [
        "a//=b\n",
        "print(a)"
      ],
      "metadata": {
        "colab": {
          "base_uri": "https://localhost:8080/"
        },
        "id": "n1LuFcbrbe_5",
        "outputId": "afe8fb72-ea4b-4fa3-f434-11674944b394"
      },
      "execution_count": null,
      "outputs": [
        {
          "output_type": "stream",
          "name": "stdout",
          "text": [
            "3.0\n"
          ]
        }
      ]
    },
    {
      "cell_type": "code",
      "source": [
        "a %= b\n",
        "print(a)"
      ],
      "metadata": {
        "colab": {
          "base_uri": "https://localhost:8080/"
        },
        "id": "mcXyVAyibj31",
        "outputId": "0a522c10-8c78-42f6-fe50-fd068be4deff"
      },
      "execution_count": null,
      "outputs": [
        {
          "output_type": "stream",
          "name": "stdout",
          "text": [
            "0.0\n"
          ]
        }
      ]
    },
    {
      "cell_type": "code",
      "source": [
        "a**=b\n",
        "print(a)"
      ],
      "metadata": {
        "colab": {
          "base_uri": "https://localhost:8080/"
        },
        "id": "_3KLUBO8boko",
        "outputId": "442b62b8-3f31-46cd-91cd-3efc75570c57"
      },
      "execution_count": null,
      "outputs": [
        {
          "output_type": "stream",
          "name": "stdout",
          "text": [
            "0.0\n"
          ]
        }
      ]
    },
    {
      "cell_type": "markdown",
      "source": [
        "#Bitwise Operators\n",
        "Bitwise operators are used to perform bitwise operations.\n",
        "\n",
        "| Operator | Description | Example |\n",
        "| --- | --- | --- |\n",
        "| & | Bitwise And | a & b |\n",
        "| | |Bitwise or   | a | b |\n",
        "| ^ | Bitwise Xor | a ^ b |\n",
        "| ~ | Bitwise Not | ~a    |\n",
        "| << | Left Shift | a << b |\n",
        "| >> | Right Shift | a >> b |\n",
        "\n"
      ],
      "metadata": {
        "id": "bFmjDhuvcbbq"
      }
    },
    {
      "cell_type": "code",
      "source": [
        "a = 5\n",
        "b = 3"
      ],
      "metadata": {
        "id": "CY9Cw85Mbrrd"
      },
      "execution_count": null,
      "outputs": []
    },
    {
      "cell_type": "code",
      "source": [
        "print (a & b)\n",
        "print (a | b)\n",
        "print (a ^ b)\n",
        "print (~a)\n",
        "print (a << b)\n",
        "print (a >> b)"
      ],
      "metadata": {
        "colab": {
          "base_uri": "https://localhost:8080/"
        },
        "id": "nQyUR3j6eF3C",
        "outputId": "c4d67888-ee1e-496b-907b-24eaccb834af"
      },
      "execution_count": null,
      "outputs": [
        {
          "output_type": "stream",
          "name": "stdout",
          "text": [
            "1\n",
            "7\n",
            "6\n",
            "-6\n",
            "40\n",
            "0\n"
          ]
        }
      ]
    },
    {
      "cell_type": "markdown",
      "source": [
        "**5.Explain the concept of type casting in python with examples.**\n",
        "\n",
        "Type casting in Python is the process of converting one data type into another. Python provides:-\n",
        "\n",
        "**int() - Converts a value to an integer. |**\n",
        "\n",
        "**float() - Converts a value to a floating-point number.**\n",
        "\n",
        "**complex() - Converts a value to a complex number.**\n",
        "\n",
        "**str() - Converts a value to a string.**\n",
        "\n",
        "**bool() - Converts a value to a boolean.**"
      ],
      "metadata": {
        "id": "lcQAS7m_e_tc"
      }
    },
    {
      "cell_type": "code",
      "source": [
        "# integer to float\n",
        "a = 5\n",
        "print(float(a))"
      ],
      "metadata": {
        "colab": {
          "base_uri": "https://localhost:8080/"
        },
        "id": "ZiYXBKfWwFjs",
        "outputId": "5c314553-7b5f-4434-ecf8-60b7df8963b6"
      },
      "execution_count": null,
      "outputs": [
        {
          "output_type": "stream",
          "name": "stdout",
          "text": [
            "5.0\n"
          ]
        }
      ]
    },
    {
      "cell_type": "code",
      "source": [
        "#float to integer\n",
        "a = 5.5\n",
        "print(int(a))"
      ],
      "metadata": {
        "colab": {
          "base_uri": "https://localhost:8080/"
        },
        "id": "u9tJM-ohwqQl",
        "outputId": "976f15f4-b8f6-4a02-d7f9-465e6849fd64"
      },
      "execution_count": null,
      "outputs": [
        {
          "output_type": "stream",
          "name": "stdout",
          "text": [
            "5\n"
          ]
        }
      ]
    },
    {
      "cell_type": "code",
      "source": [
        "#integer to complex\n",
        "a = 6\n",
        "print(complex(a))"
      ],
      "metadata": {
        "colab": {
          "base_uri": "https://localhost:8080/"
        },
        "id": "x0gj0ySMw03Y",
        "outputId": "ab5935ad-81a9-4fc0-a6e7-a0ca3c3a91d9"
      },
      "execution_count": null,
      "outputs": [
        {
          "output_type": "stream",
          "name": "stdout",
          "text": [
            "(6+0j)\n"
          ]
        }
      ]
    },
    {
      "cell_type": "code",
      "source": [
        "#string to integer\n",
        "a = 8\n",
        "print(int(a))"
      ],
      "metadata": {
        "colab": {
          "base_uri": "https://localhost:8080/"
        },
        "id": "o7c_MDZxxCZ1",
        "outputId": "7d9adf25-2dea-4852-c62d-85617cfd10ce"
      },
      "execution_count": null,
      "outputs": [
        {
          "output_type": "stream",
          "name": "stdout",
          "text": [
            "8\n"
          ]
        }
      ]
    },
    {
      "cell_type": "code",
      "source": [
        "#string to float\n",
        "a = 10\n",
        "print(float(a))"
      ],
      "metadata": {
        "colab": {
          "base_uri": "https://localhost:8080/"
        },
        "id": "SHoYo7XrxUnT",
        "outputId": "beb1fa37-c7e7-42cb-ae25-9bedd8c35fe8"
      },
      "execution_count": null,
      "outputs": [
        {
          "output_type": "stream",
          "name": "stdout",
          "text": [
            "10.0\n"
          ]
        }
      ]
    },
    {
      "cell_type": "code",
      "source": [
        "#string to complex\n",
        "a = \"6+5j\"\n",
        "print(complex(a))"
      ],
      "metadata": {
        "colab": {
          "base_uri": "https://localhost:8080/"
        },
        "id": "Q5wle4srxh2B",
        "outputId": "179c7751-dde5-43e2-e12b-75baed501864"
      },
      "execution_count": null,
      "outputs": [
        {
          "output_type": "stream",
          "name": "stdout",
          "text": [
            "(6+5j)\n"
          ]
        }
      ]
    },
    {
      "cell_type": "code",
      "source": [
        "# boll to int\n",
        "x = True\n",
        "print(int(x))"
      ],
      "metadata": {
        "colab": {
          "base_uri": "https://localhost:8080/"
        },
        "id": "4viGQRHGxtsc",
        "outputId": "28f0aa6b-ee21-40e0-a44b-b3899686ae2f"
      },
      "execution_count": null,
      "outputs": [
        {
          "output_type": "stream",
          "name": "stdout",
          "text": [
            "1\n"
          ]
        }
      ]
    },
    {
      "cell_type": "code",
      "source": [
        "# int to boll\n",
        "x = 5\n",
        "x = bool(x)\n",
        "print(x)"
      ],
      "metadata": {
        "colab": {
          "base_uri": "https://localhost:8080/"
        },
        "id": "6i5L_Oc5zlP2",
        "outputId": "266eb12a-59fd-4bca-bbe6-d03dd1a4dc87"
      },
      "execution_count": null,
      "outputs": [
        {
          "output_type": "stream",
          "name": "stdout",
          "text": [
            "True\n"
          ]
        }
      ]
    },
    {
      "cell_type": "markdown",
      "source": [
        "**6.How do conditional statements work in Python? Illustrate with examples**\n",
        "\n",
        "Conditional statements in Python are used to execute different blocks of code based on certain conditions. They allow your program to make decisions and take actions based on the input or situation.\n",
        "\n",
        "**If Statement**\n",
        "\n",
        "The if statement is used to execute a block of code if a certain condition is true.\n",
        "\n",
        "\n",
        "# Example of an if statement"
      ],
      "metadata": {
        "id": "9Uc3f-sk0QuB"
      }
    },
    {
      "cell_type": "code",
      "source": [
        "x = 5\n",
        "if x > 10:\n",
        "  print(\"x is greater than 10\")\n",
        "else:\n",
        "  print(\"x is not greater than 10\")"
      ],
      "metadata": {
        "colab": {
          "base_uri": "https://localhost:8080/"
        },
        "id": "o8HOsoXEY7b4",
        "outputId": "41a908d8-330d-4edf-b1ca-5a4c5cfe9281"
      },
      "execution_count": 1,
      "outputs": [
        {
          "output_type": "stream",
          "name": "stdout",
          "text": [
            "x is not greater than 10\n"
          ]
        }
      ]
    },
    {
      "cell_type": "markdown",
      "source": [
        "#If-else statement\n",
        "The If-else statement is used to execute one block of code if a certain condition is true and another block of code if the condition is false."
      ],
      "metadata": {
        "id": "CFXoGho5ZTax"
      }
    },
    {
      "cell_type": "code",
      "source": [
        "# Example of an If-else statement\n",
        "x = 10\n",
        "if x > 18:\n",
        "  print(\"x is greater than 10\")\n",
        "else:\n",
        "  print(\"x is less than or equal to 10\")"
      ],
      "metadata": {
        "colab": {
          "base_uri": "https://localhost:8080/"
        },
        "id": "8g0okw9vaa7N",
        "outputId": "3ac95f53-8bf4-447c-b839-5581efcf1df1"
      },
      "execution_count": 3,
      "outputs": [
        {
          "output_type": "stream",
          "name": "stdout",
          "text": [
            "x is less than or equal to 10\n"
          ]
        }
      ]
    },
    {
      "cell_type": "markdown",
      "source": [
        "# If-Elif-Else statement\n",
        "The if-elif-else statement is used to check multiple condition and execute different blocks of code based on those conditions.\n",
        ""
      ],
      "metadata": {
        "id": "4uAFoB0gb4Ov"
      }
    },
    {
      "cell_type": "code",
      "source": [
        "# Example of an if-elif-else statement\n",
        "x = 15\n",
        "if x > 10:\n",
        "  print(\"x is greater than 10\")\n",
        "elif x == 10:\n",
        "  print(\"x is equal to 10\")\n",
        "else:\n",
        "  print(\"x is less than 10\")"
      ],
      "metadata": {
        "colab": {
          "base_uri": "https://localhost:8080/"
        },
        "id": "pvyy9XjZciOH",
        "outputId": "3f7aaef0-3526-4045-e64b-3bff68a18f5b"
      },
      "execution_count": 10,
      "outputs": [
        {
          "output_type": "stream",
          "name": "stdout",
          "text": [
            "x is greater than 10\n"
          ]
        }
      ]
    },
    {
      "cell_type": "markdown",
      "source": [
        "#are Nested if statement\n",
        "nested if statement are used to check multiple condition and execute different block of code based on those condition.\n",
        "  "
      ],
      "metadata": {
        "id": "Ntn4S8sRegQp"
      }
    },
    {
      "cell_type": "code",
      "source": [
        "#Example of nested if statement\n",
        "x = 15\n",
        "if x > 10:\n",
        "  if x > 0:\n",
        "    print(\"Both x and y are positive and y is greater than 10\")\n",
        "  else:\n",
        "    print(\"x is positive but y is not greater than 10\")\n",
        "else:\n",
        "  print(\"x is not positive\")"
      ],
      "metadata": {
        "colab": {
          "base_uri": "https://localhost:8080/"
        },
        "id": "PU56HJlIfF4Y",
        "outputId": "491e878c-870b-4c3b-a015-5ab15a2fcbf7"
      },
      "execution_count": 14,
      "outputs": [
        {
          "output_type": "stream",
          "name": "stdout",
          "text": [
            "Both x and y are positive and y is greater than 10\n"
          ]
        }
      ]
    },
    {
      "cell_type": "markdown",
      "source": [
        "**By using conditional statement, you can write more dynamic and reponsive code that adapts to different situation and inputs.**"
      ],
      "metadata": {
        "id": "zaTT45r2gHCi"
      }
    },
    {
      "cell_type": "markdown",
      "source": [
        "**7.Describe the different types of loops in Python and their use cases with examples.**\n",
        "\n",
        " Python has two primary types of loops: for loops and while loops. Each type of loop has its own use cases and examples.\n",
        "\n",
        "**For Loops**\n",
        "\n",
        "for loops are used to iterate over a sequence (such as a list, tuple, or string) or other iterable objects. They allow you to execute a block of code for each item in the sequence.\n",
        "\n",
        "#Example of a For Loop"
      ],
      "metadata": {
        "id": "yqOEymC7g1F7"
      }
    },
    {
      "cell_type": "code",
      "source": [
        "fruits = [\"apple\", \"banana\",\"cherry\"]\n",
        "for fruit in fruits:\n",
        "  print(fruit)"
      ],
      "metadata": {
        "colab": {
          "base_uri": "https://localhost:8080/"
        },
        "id": "r6KuYeKmhjBq",
        "outputId": "467b17f4-298c-436f-9e85-3da76436e9fb"
      },
      "execution_count": 15,
      "outputs": [
        {
          "output_type": "stream",
          "name": "stdout",
          "text": [
            "apple\n",
            "banana\n",
            "cherry\n"
          ]
        }
      ]
    },
    {
      "cell_type": "markdown",
      "source": [
        "**Use Cases for For Loops**\n",
        "- Iterating over a list or tuple of items\n",
        "- Processing each character in a string\n",
        "- Looping through a dictionary's keys or values\n",
        "\n",
        "**While Loops**\n",
        "\n",
        "while loops are used to execute a block of code as long as a certain condition is true. They allow you to repeat a block of code until a specific condition is met.\n",
        "\n",
        "#Example of a While Loop\n"
      ],
      "metadata": {
        "id": "Znq4-0yviGKr"
      }
    },
    {
      "cell_type": "code",
      "source": [
        "i = 0\n",
        "while i < 5:\n",
        "  print(i)\n",
        "  i += 1"
      ],
      "metadata": {
        "colab": {
          "base_uri": "https://localhost:8080/"
        },
        "id": "etvD6lg2h8uz",
        "outputId": "7fa12dff-b457-4f41-f7f2-c57e37285a32"
      },
      "execution_count": 18,
      "outputs": [
        {
          "output_type": "stream",
          "name": "stdout",
          "text": [
            "0\n",
            "1\n",
            "2\n",
            "3\n",
            "4\n"
          ]
        }
      ]
    },
    {
      "cell_type": "markdown",
      "source": [
        "**Use Cases for While Loops**\n",
        "- Repeating a block of code until a specific condition is met\n",
        "- Looping through a sequence of unknown length\n",
        "- Creating an infinite loop (although this is generally discouraged)\n",
        "\n",
        "**Nested Loops**\n",
        "\n",
        "Nested loops are used to loop through multiple sequences or conditions. They allow you to execute a block of code for each item in multiple sequences.\n",
        "\n",
        "#Example of Nested Loops\n"
      ],
      "metadata": {
        "id": "4b0uelhdjB0w"
      }
    },
    {
      "cell_type": "code",
      "source": [
        "colors = [\"red\",\"green\",\"blue\",]\n",
        "shapes = [\"circle\",\"square\",\"triangle\"]\n",
        "for color in colors:\n",
        "  for shape in shapes:\n",
        "    print(color,shape)"
      ],
      "metadata": {
        "colab": {
          "base_uri": "https://localhost:8080/"
        },
        "id": "6cjgorJiitCm",
        "outputId": "6eb4f5a5-2a3f-4bc3-e4ee-a21a68b6730c"
      },
      "execution_count": 19,
      "outputs": [
        {
          "output_type": "stream",
          "name": "stdout",
          "text": [
            "red circle\n",
            "red square\n",
            "red triangle\n",
            "green circle\n",
            "green square\n",
            "green triangle\n",
            "blue circle\n",
            "blue square\n",
            "blue triangle\n"
          ]
        }
      ]
    },
    {
      "cell_type": "markdown",
      "source": [
        "**Use Cases for Nested Loops**\n",
        "- Looping through multiple sequences or conditions\n",
        "- Creating complex data structures or patterns\n",
        "\n",
        "**Loop Control Statements**\n",
        "\n",
        "Loop control statements are used to control the flow of loops. They allow you to exit a loop, skip to the next iteration, or repeat the current iteration.\n",
        "\n",
        "**Break Statement**\n",
        "\n",
        "The break statement is used to exit a loop prematurely.\n",
        "#Example Of The Break Statement\n"
      ],
      "metadata": {
        "id": "_8WV56zPj3ba"
      }
    },
    {
      "cell_type": "code",
      "source": [
        "for i in range(10):\n",
        "  if i == 5:\n",
        "    break\n",
        "    print(i)"
      ],
      "metadata": {
        "id": "9pmLueH7jybC"
      },
      "execution_count": 24,
      "outputs": []
    },
    {
      "cell_type": "markdown",
      "source": [
        "**Continue Statement**\n",
        "\n",
        "The Continue statement is used to skip to the next iteration of a loop.\n",
        "#Example Of The Continue statement  \n"
      ],
      "metadata": {
        "id": "kEAKyIYalQpp"
      }
    },
    {
      "cell_type": "code",
      "source": [
        "for i in range(10):\n",
        "  if i == 5:\n",
        "    continue\n",
        "    print(i)"
      ],
      "metadata": {
        "id": "yx7A8h-Ak2_L"
      },
      "execution_count": 30,
      "outputs": []
    },
    {
      "cell_type": "markdown",
      "source": [
        "**Pass Statement**\n",
        "\n",
        "The Pass Statement is used to do nothing and move on tp the next line of code.\n",
        "#Exammple of the pass statement"
      ],
      "metadata": {
        "id": "nVEz65QBmYCH"
      }
    },
    {
      "cell_type": "code",
      "source": [
        "for i in range(10):\n",
        "  if i == 5:\n",
        "    pass\n",
        "    print(i)"
      ],
      "metadata": {
        "colab": {
          "base_uri": "https://localhost:8080/"
        },
        "id": "EGcUxs2rmEan",
        "outputId": "8ac33be0-5741-458e-9c71-66c776b8ce17"
      },
      "execution_count": 29,
      "outputs": [
        {
          "output_type": "stream",
          "name": "stdout",
          "text": [
            "5\n"
          ]
        }
      ]
    },
    {
      "cell_type": "markdown",
      "source": [
        "**By using loops and loop control statement, you can write more efficient and effective code than can handle complex tasks and data structures.**"
      ],
      "metadata": {
        "id": "h1is-Es6nGKb"
      }
    }
  ],
  "metadata": {
    "colab": {
      "provenance": [],
      "collapsed_sections": [
        "YOIhEma17eqX",
        "QRKHUQYynLqI",
        "QuZT0-b2lRyc",
        "C4kU157jvJsn"
      ]
    },
    "kernelspec": {
      "display_name": "Python 3",
      "name": "python3"
    },
    "language_info": {
      "name": "python"
    }
  },
  "nbformat": 4,
  "nbformat_minor": 0
}